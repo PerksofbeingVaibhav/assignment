{
  "nbformat": 4,
  "nbformat_minor": 0,
  "metadata": {
    "colab": {
      "provenance": []
    },
    "kernelspec": {
      "name": "python3",
      "display_name": "Python 3"
    },
    "language_info": {
      "name": "python"
    }
  },
  "cells": [
    {
      "cell_type": "code",
      "execution_count": null,
      "metadata": {
        "colab": {
          "base_uri": "https://localhost:8080/"
        },
        "id": "0ntPNbEmGK8m",
        "outputId": "6fad0d2d-b2a7-441d-9486-ce27a69bcbe2"
      },
      "outputs": [
        {
          "output_type": "stream",
          "name": "stdout",
          "text": [
            "Requirement already satisfied: yfinance in /usr/local/lib/python3.10/dist-packages (0.2.22)\n",
            "Requirement already satisfied: pandas>=1.3.0 in /usr/local/lib/python3.10/dist-packages (from yfinance) (1.5.3)\n",
            "Requirement already satisfied: numpy>=1.16.5 in /usr/local/lib/python3.10/dist-packages (from yfinance) (1.22.4)\n",
            "Requirement already satisfied: requests>=2.26 in /usr/local/lib/python3.10/dist-packages (from yfinance) (2.27.1)\n",
            "Requirement already satisfied: multitasking>=0.0.7 in /usr/local/lib/python3.10/dist-packages (from yfinance) (0.0.11)\n",
            "Requirement already satisfied: lxml>=4.9.1 in /usr/local/lib/python3.10/dist-packages (from yfinance) (4.9.3)\n",
            "Requirement already satisfied: appdirs>=1.4.4 in /usr/local/lib/python3.10/dist-packages (from yfinance) (1.4.4)\n",
            "Requirement already satisfied: pytz>=2022.5 in /usr/local/lib/python3.10/dist-packages (from yfinance) (2022.7.1)\n",
            "Requirement already satisfied: frozendict>=2.3.4 in /usr/local/lib/python3.10/dist-packages (from yfinance) (2.3.8)\n",
            "Requirement already satisfied: beautifulsoup4>=4.11.1 in /usr/local/lib/python3.10/dist-packages (from yfinance) (4.11.2)\n",
            "Requirement already satisfied: html5lib>=1.1 in /usr/local/lib/python3.10/dist-packages (from yfinance) (1.1)\n",
            "Requirement already satisfied: soupsieve>1.2 in /usr/local/lib/python3.10/dist-packages (from beautifulsoup4>=4.11.1->yfinance) (2.4.1)\n",
            "Requirement already satisfied: six>=1.9 in /usr/local/lib/python3.10/dist-packages (from html5lib>=1.1->yfinance) (1.16.0)\n",
            "Requirement already satisfied: webencodings in /usr/local/lib/python3.10/dist-packages (from html5lib>=1.1->yfinance) (0.5.1)\n",
            "Requirement already satisfied: python-dateutil>=2.8.1 in /usr/local/lib/python3.10/dist-packages (from pandas>=1.3.0->yfinance) (2.8.2)\n",
            "Requirement already satisfied: urllib3<1.27,>=1.21.1 in /usr/local/lib/python3.10/dist-packages (from requests>=2.26->yfinance) (1.26.16)\n",
            "Requirement already satisfied: certifi>=2017.4.17 in /usr/local/lib/python3.10/dist-packages (from requests>=2.26->yfinance) (2023.5.7)\n",
            "Requirement already satisfied: charset-normalizer~=2.0.0 in /usr/local/lib/python3.10/dist-packages (from requests>=2.26->yfinance) (2.0.12)\n",
            "Requirement already satisfied: idna<4,>=2.5 in /usr/local/lib/python3.10/dist-packages (from requests>=2.26->yfinance) (3.4)\n"
          ]
        }
      ],
      "source": [
        "!pip install yfinance\n"
      ]
    },
    {
      "cell_type": "code",
      "source": [
        "import yfinance as yf\n",
        "import pandas as pd\n",
        "\n",
        "def get_fo_stock_data(symbols, start_date, end_date):\n",
        "    \"\"\"\n",
        "    Get OHLC data for F&O listed stocks in India.\n",
        "\n",
        "    Parameters:\n",
        "        symbols (list): List of stock symbols (e.g., ['TCS.NS', 'RELIANCE.NS', ...]).\n",
        "        start_date (str): Start date in 'YYYY-MM-DD' format.\n",
        "        end_date (str): End date in 'YYYY-MM-DD' format.\n",
        "\n",
        "    Returns:\n",
        "        pd.DataFrame: A DataFrame containing OHLC data for the specified stocks and date range.\n",
        "    \"\"\"\n",
        "    # Download OHLC data using yfinance\n",
        "    data = yf.download(symbols, start=start_date, end=end_date)\n",
        "\n",
        "    # Keep only the 'Adj Close' prices and drop any rows with missing values\n",
        "    data = data['Adj Close'].dropna()\n",
        "\n",
        "    return data\n",
        "\n",
        "\n",
        "# Example usage:\n",
        "symbols_list = ['TCS.NS', 'RELIANCE.NS', 'INFY.NS', 'HDFCBANK.NS', 'HDFC.NS']  # Add more symbols as needed\n",
        "start_date = '2020-01-01'\n",
        "end_date = '2023-01-01'\n",
        "\n",
        "ohlc_data = get_fo_stock_data(symbols_list, start_date, end_date)\n",
        "print(ohlc_data.head())\n"
      ],
      "metadata": {
        "colab": {
          "base_uri": "https://localhost:8080/"
        },
        "id": "1W9QBoFwGQeS",
        "outputId": "de9d9d8d-ca3e-465b-c39c-428348a99fcf"
      },
      "execution_count": null,
      "outputs": [
        {
          "output_type": "stream",
          "name": "stdout",
          "text": [
            "[*********************100%***********************]  5 of 5 completed\n",
            "                HDFC.NS  HDFCBANK.NS     INFY.NS  RELIANCE.NS       TCS.NS\n",
            "Date                                                                      \n",
            "2020-01-01  2292.563965  1244.189697  672.164490  1480.595825  2019.016968\n",
            "2020-01-02  2323.129395  1252.120361  670.203247  1505.802124  2009.748413\n",
            "2020-01-03  2311.873291  1234.264160  680.511292  1507.616577  2049.801514\n",
            "2020-01-06  2245.610352  1207.552856  673.988770  1472.651367  2049.614990\n",
            "2020-01-07  2274.762207  1226.674072  664.000183  1495.307617  2054.644531\n"
          ]
        }
      ]
    },
    {
      "cell_type": "code",
      "source": [
        "import yfinance as yf\n",
        "import pandas as pd\n",
        "import numpy as np\n",
        "\n",
        "# Step 1 and Step 2 code (data acquisition and library imports) go here...\n",
        "\n",
        "def get_top_5_performers(data):\n",
        "    \"\"\"\n",
        "    Calculate 52-week rolling returns for each stock and select the top 5 performers.\n",
        "\n",
        "    Parameters:\n",
        "        data (pd.DataFrame): DataFrame containing OHLC data for F&O listed stocks.\n",
        "\n",
        "    Returns:\n",
        "        pd.DataFrame: DataFrame containing the top 5 performing stocks' 52-week rolling returns.\n",
        "    \"\"\"\n",
        "    # Calculate the percentage change in adjusted closing prices\n",
        "    returns = data.pct_change()\n",
        "\n",
        "    # Calculate 52-week rolling returns for each stock\n",
        "    rolling_returns = returns.rolling(window=52).apply(lambda x: np.prod(1 + x) - 1)\n",
        "\n",
        "    # Get the latest date's rolling returns\n",
        "    latest_rolling_returns = rolling_returns.iloc[-1]\n",
        "\n",
        "    # Select the top 5 performers\n",
        "    top_5_performers = latest_rolling_returns.nlargest(5)\n",
        "\n",
        "    return top_5_performers\n",
        "\n",
        "# Example usage:\n",
        "# Assuming you have already obtained the OHLC data as 'ohlc_data'\n",
        "top_5_performers = get_top_5_performers(ohlc_data)\n",
        "print(top_5_performers)\n"
      ],
      "metadata": {
        "colab": {
          "base_uri": "https://localhost:8080/"
        },
        "id": "ERauB-VsGY9f",
        "outputId": "7e64732b-eb6e-4061-8f31-0c6ed8468582"
      },
      "execution_count": null,
      "outputs": [
        {
          "output_type": "stream",
          "name": "stdout",
          "text": [
            "HDFCBANK.NS    0.125540\n",
            "HDFC.NS        0.122741\n",
            "RELIANCE.NS    0.057478\n",
            "TCS.NS         0.046582\n",
            "INFY.NS        0.023311\n",
            "Name: 2022-12-30 00:00:00, dtype: float64\n"
          ]
        }
      ]
    },
    {
      "cell_type": "code",
      "source": [
        "import requests\n",
        "\n",
        "def get_current_stock_price(stock):\n",
        "    url = \"https://twelve-data1.p.rapidapi.com/stocks\"\n",
        "    querystring = {\"exchange\": \"NASDAQ\", \"format\": \"json\", \"symbol\": stock}\n",
        "\n",
        "    headers = {\n",
        "        \"X-RapidAPI-Key\": \"d3eee0660cmshbdf6933fa97c3c2p1e906ejsna482c89a4b2d\",\n",
        "        \"X-RapidAPI-Host\": \"twelve-data1.p.rapidapi.com\"\n",
        "    }\n",
        "\n",
        "    try:\n",
        "        response = requests.get(url, headers=headers, params=querystring)\n",
        "        data = response.json()\n",
        "        current_price = data[0]['price'] if data else None\n",
        "        return current_price\n",
        "    except Exception as e:\n",
        "        print(f\"Error fetching stock price for {stock}: {e}\")\n",
        "        return None\n",
        "\n",
        "# Rest of the code remains the same as before\n",
        "\n",
        "# ...\n",
        "\n",
        "# In the __main__ block:\n",
        "if __name__ == \"__main__\":\n",
        "    stock_symbol = 'AAPL'  # Replace this with the stock symbol you want to fetch the price for\n",
        "    current_price = get_current_stock_price(stock_symbol)\n",
        "    if current_price is not None:\n",
        "        print(f\"The current price of {stock_symbol} is ${current_price:.2f}\")\n",
        "    else:\n",
        "        print(f\"Unable to fetch the current price for {stock_symbol}\")\n"
      ],
      "metadata": {
        "colab": {
          "base_uri": "https://localhost:8080/"
        },
        "id": "bHUQbNZkP7NU",
        "outputId": "20b69065-aa1e-4b23-f50f-19e9a80f7044"
      },
      "execution_count": null,
      "outputs": [
        {
          "output_type": "stream",
          "name": "stdout",
          "text": [
            "Error fetching stock price for AAPL: 0\n",
            "Unable to fetch the current price for AAPL\n"
          ]
        }
      ]
    },
    {
      "cell_type": "code",
      "source": [
        "def buy_stock(stock, allocation, portfolio):\n",
        "    # Get the current price of the stock\n",
        "    current_price = get_current_stock_price(stock)\n",
        "\n",
        "    # Calculate the quantity to buy based on the allocation and the current price\n",
        "    available_cash = 10000  # Assuming you have $10,000 available to invest\n",
        "    quantity_to_buy = int((available_cash * allocation) / current_price)\n",
        "\n",
        "    # Check if there is enough cash to buy the stock\n",
        "    if quantity_to_buy * current_price > available_cash:\n",
        "        print(f\"Not enough cash to buy {stock}.\")\n",
        "        return\n",
        "\n",
        "    # Update the portfolio with the purchased quantity\n",
        "    if stock in portfolio:\n",
        "        portfolio[stock] += quantity_to_buy\n",
        "    else:\n",
        "        portfolio[stock] = quantity_to_buy\n",
        "\n",
        "    # Deduct the purchased amount from available cash\n",
        "    available_cash -= quantity_to_buy * current_price\n",
        "\n",
        "    print(f\"Bought {quantity_to_buy} shares of {stock} at ${current_price:.2f} per share.\")\n",
        "    print(f\"Remaining cash: ${available_cash:.2f}\")\n"
      ],
      "metadata": {
        "id": "GpPIqOZxJSuZ"
      },
      "execution_count": null,
      "outputs": []
    },
    {
      "cell_type": "code",
      "source": [
        "def buy_stocks(top_performers, portfolio):\n",
        "    # 'portfolio' is a dictionary that tracks the current holdings and quantities of stocks\n",
        "\n",
        "    # Assuming each stock has an equal allocation in the portfolio\n",
        "    allocation_per_stock = 1.0 / len(top_performers)\n",
        "\n",
        "    for stock in top_performers:\n",
        "        # Assuming you have a function to buy a stock with a specific allocation and update the portfolio\n",
        "        # Implement the buy_stock() function according to your trading platform or data structure\n",
        "        buy_stock(stock, allocation_per_stock, portfolio)\n"
      ],
      "metadata": {
        "id": "V_NW3DAILAT4"
      },
      "execution_count": null,
      "outputs": []
    },
    {
      "cell_type": "code",
      "source": [
        "def set_stop_loss(portfolio, stop_loss_percentage):\n",
        "    for stock, quantity in portfolio.items():\n",
        "        # Get the current price of the stock (you need an appropriate function for this)\n",
        "        current_price = get_current_stock_price(stock)\n",
        "\n",
        "        # Calculate the stop-loss price\n",
        "        stop_loss_price = current_price * (1 - stop_loss_percentage)\n",
        "\n",
        "        # Assuming you have a function to set a stop-loss level for a specific stock\n",
        "        # Implement the set_stop_loss() function according to your trading platform or data structure\n",
        "        set_stop_loss(stock, stop_loss_price)\n"
      ],
      "metadata": {
        "id": "FHZOhMoRMkQt"
      },
      "execution_count": null,
      "outputs": []
    },
    {
      "cell_type": "code",
      "source": [
        "def weekly_update():\n",
        "    top_performers = get_top_performers()\n",
        "    buy_stocks(top_performers, portfolio)\n",
        "    set_stop_loss(portfolio, stop_loss_percentage)\n",
        "    # Other actions or checks you want to perform weekly\n"
      ],
      "metadata": {
        "id": "VadTBDg6Mo6L"
      },
      "execution_count": 71,
      "outputs": []
    },
    {
      "cell_type": "code",
      "source": [
        "!pip install pyfolio\n",
        "!pip install empyrical\n"
      ],
      "metadata": {
        "colab": {
          "base_uri": "https://localhost:8080/"
        },
        "id": "vN7fTz5rMwFe",
        "outputId": "869ca5c5-93a0-4e9a-e584-2020ffb34329"
      },
      "execution_count": null,
      "outputs": [
        {
          "output_type": "stream",
          "name": "stdout",
          "text": [
            "Collecting pyfolio\n",
            "  Downloading pyfolio-0.9.2.tar.gz (91 kB)\n",
            "\u001b[2K     \u001b[90m━━━━━━━━━━━━━━━━━━━━━━━━━━━━━━━━━━━━━━━━\u001b[0m \u001b[32m91.1/91.1 kB\u001b[0m \u001b[31m5.1 MB/s\u001b[0m eta \u001b[36m0:00:00\u001b[0m\n",
            "\u001b[?25h  Preparing metadata (setup.py) ... \u001b[?25l\u001b[?25hdone\n",
            "Requirement already satisfied: ipython>=3.2.3 in /usr/local/lib/python3.10/dist-packages (from pyfolio) (7.34.0)\n",
            "Requirement already satisfied: matplotlib>=1.4.0 in /usr/local/lib/python3.10/dist-packages (from pyfolio) (3.7.1)\n",
            "Requirement already satisfied: numpy>=1.11.1 in /usr/local/lib/python3.10/dist-packages (from pyfolio) (1.22.4)\n",
            "Requirement already satisfied: pandas>=0.18.1 in /usr/local/lib/python3.10/dist-packages (from pyfolio) (1.5.3)\n",
            "Requirement already satisfied: pytz>=2014.10 in /usr/local/lib/python3.10/dist-packages (from pyfolio) (2022.7.1)\n",
            "Requirement already satisfied: scipy>=0.14.0 in /usr/local/lib/python3.10/dist-packages (from pyfolio) (1.10.1)\n",
            "Requirement already satisfied: scikit-learn>=0.16.1 in /usr/local/lib/python3.10/dist-packages (from pyfolio) (1.2.2)\n",
            "Requirement already satisfied: seaborn>=0.7.1 in /usr/local/lib/python3.10/dist-packages (from pyfolio) (0.12.2)\n",
            "Collecting empyrical>=0.5.0 (from pyfolio)\n",
            "  Downloading empyrical-0.5.5.tar.gz (52 kB)\n",
            "\u001b[2K     \u001b[90m━━━━━━━━━━━━━━━━━━━━━━━━━━━━━━━━━━━━━━━━\u001b[0m \u001b[32m52.8/52.8 kB\u001b[0m \u001b[31m7.4 MB/s\u001b[0m eta \u001b[36m0:00:00\u001b[0m\n",
            "\u001b[?25h  Preparing metadata (setup.py) ... \u001b[?25l\u001b[?25hdone\n",
            "Requirement already satisfied: pandas-datareader>=0.2 in /usr/local/lib/python3.10/dist-packages (from empyrical>=0.5.0->pyfolio) (0.10.0)\n",
            "Requirement already satisfied: setuptools>=18.5 in /usr/local/lib/python3.10/dist-packages (from ipython>=3.2.3->pyfolio) (67.7.2)\n",
            "Collecting jedi>=0.16 (from ipython>=3.2.3->pyfolio)\n",
            "  Downloading jedi-0.18.2-py2.py3-none-any.whl (1.6 MB)\n",
            "\u001b[2K     \u001b[90m━━━━━━━━━━━━━━━━━━━━━━━━━━━━━━━━━━━━━━━━\u001b[0m \u001b[32m1.6/1.6 MB\u001b[0m \u001b[31m49.1 MB/s\u001b[0m eta \u001b[36m0:00:00\u001b[0m\n",
            "\u001b[?25hRequirement already satisfied: decorator in /usr/local/lib/python3.10/dist-packages (from ipython>=3.2.3->pyfolio) (4.4.2)\n",
            "Requirement already satisfied: pickleshare in /usr/local/lib/python3.10/dist-packages (from ipython>=3.2.3->pyfolio) (0.7.5)\n",
            "Requirement already satisfied: traitlets>=4.2 in /usr/local/lib/python3.10/dist-packages (from ipython>=3.2.3->pyfolio) (5.7.1)\n",
            "Requirement already satisfied: prompt-toolkit!=3.0.0,!=3.0.1,<3.1.0,>=2.0.0 in /usr/local/lib/python3.10/dist-packages (from ipython>=3.2.3->pyfolio) (3.0.39)\n",
            "Requirement already satisfied: pygments in /usr/local/lib/python3.10/dist-packages (from ipython>=3.2.3->pyfolio) (2.14.0)\n",
            "Requirement already satisfied: backcall in /usr/local/lib/python3.10/dist-packages (from ipython>=3.2.3->pyfolio) (0.2.0)\n",
            "Requirement already satisfied: matplotlib-inline in /usr/local/lib/python3.10/dist-packages (from ipython>=3.2.3->pyfolio) (0.1.6)\n",
            "Requirement already satisfied: pexpect>4.3 in /usr/local/lib/python3.10/dist-packages (from ipython>=3.2.3->pyfolio) (4.8.0)\n",
            "Requirement already satisfied: contourpy>=1.0.1 in /usr/local/lib/python3.10/dist-packages (from matplotlib>=1.4.0->pyfolio) (1.1.0)\n",
            "Requirement already satisfied: cycler>=0.10 in /usr/local/lib/python3.10/dist-packages (from matplotlib>=1.4.0->pyfolio) (0.11.0)\n",
            "Requirement already satisfied: fonttools>=4.22.0 in /usr/local/lib/python3.10/dist-packages (from matplotlib>=1.4.0->pyfolio) (4.41.0)\n",
            "Requirement already satisfied: kiwisolver>=1.0.1 in /usr/local/lib/python3.10/dist-packages (from matplotlib>=1.4.0->pyfolio) (1.4.4)\n",
            "Requirement already satisfied: packaging>=20.0 in /usr/local/lib/python3.10/dist-packages (from matplotlib>=1.4.0->pyfolio) (23.1)\n",
            "Requirement already satisfied: pillow>=6.2.0 in /usr/local/lib/python3.10/dist-packages (from matplotlib>=1.4.0->pyfolio) (8.4.0)\n",
            "Requirement already satisfied: pyparsing>=2.3.1 in /usr/local/lib/python3.10/dist-packages (from matplotlib>=1.4.0->pyfolio) (3.1.0)\n",
            "Requirement already satisfied: python-dateutil>=2.7 in /usr/local/lib/python3.10/dist-packages (from matplotlib>=1.4.0->pyfolio) (2.8.2)\n",
            "Requirement already satisfied: joblib>=1.1.1 in /usr/local/lib/python3.10/dist-packages (from scikit-learn>=0.16.1->pyfolio) (1.3.1)\n",
            "Requirement already satisfied: threadpoolctl>=2.0.0 in /usr/local/lib/python3.10/dist-packages (from scikit-learn>=0.16.1->pyfolio) (3.1.0)\n",
            "Requirement already satisfied: parso<0.9.0,>=0.8.0 in /usr/local/lib/python3.10/dist-packages (from jedi>=0.16->ipython>=3.2.3->pyfolio) (0.8.3)\n",
            "Requirement already satisfied: lxml in /usr/local/lib/python3.10/dist-packages (from pandas-datareader>=0.2->empyrical>=0.5.0->pyfolio) (4.9.3)\n",
            "Requirement already satisfied: requests>=2.19.0 in /usr/local/lib/python3.10/dist-packages (from pandas-datareader>=0.2->empyrical>=0.5.0->pyfolio) (2.27.1)\n",
            "Requirement already satisfied: ptyprocess>=0.5 in /usr/local/lib/python3.10/dist-packages (from pexpect>4.3->ipython>=3.2.3->pyfolio) (0.7.0)\n",
            "Requirement already satisfied: wcwidth in /usr/local/lib/python3.10/dist-packages (from prompt-toolkit!=3.0.0,!=3.0.1,<3.1.0,>=2.0.0->ipython>=3.2.3->pyfolio) (0.2.6)\n",
            "Requirement already satisfied: six>=1.5 in /usr/local/lib/python3.10/dist-packages (from python-dateutil>=2.7->matplotlib>=1.4.0->pyfolio) (1.16.0)\n",
            "Requirement already satisfied: urllib3<1.27,>=1.21.1 in /usr/local/lib/python3.10/dist-packages (from requests>=2.19.0->pandas-datareader>=0.2->empyrical>=0.5.0->pyfolio) (1.26.16)\n",
            "Requirement already satisfied: certifi>=2017.4.17 in /usr/local/lib/python3.10/dist-packages (from requests>=2.19.0->pandas-datareader>=0.2->empyrical>=0.5.0->pyfolio) (2023.5.7)\n",
            "Requirement already satisfied: charset-normalizer~=2.0.0 in /usr/local/lib/python3.10/dist-packages (from requests>=2.19.0->pandas-datareader>=0.2->empyrical>=0.5.0->pyfolio) (2.0.12)\n",
            "Requirement already satisfied: idna<4,>=2.5 in /usr/local/lib/python3.10/dist-packages (from requests>=2.19.0->pandas-datareader>=0.2->empyrical>=0.5.0->pyfolio) (3.4)\n",
            "Building wheels for collected packages: pyfolio, empyrical\n",
            "  Building wheel for pyfolio (setup.py) ... \u001b[?25l\u001b[?25hdone\n",
            "  Created wheel for pyfolio: filename=pyfolio-0.9.2-py3-none-any.whl size=88663 sha256=78411fb48b2bfff172123a63ee01be4cfba8342a147c2aeecc2da23173dc3512\n",
            "  Stored in directory: /root/.cache/pip/wheels/71/38/bc/e53700cfd8b0ad6b539d2fbaaf060ed8a299e7622a5b86ef42\n",
            "  Building wheel for empyrical (setup.py) ... \u001b[?25l\u001b[?25hdone\n",
            "  Created wheel for empyrical: filename=empyrical-0.5.5-py3-none-any.whl size=39762 sha256=cd33ee949ee3a779563b793c9077e32a1a6cb8c4f6f569b0106bbacfa259a3e3\n",
            "  Stored in directory: /root/.cache/pip/wheels/0e/2e/f2/d6d2d9a1eb8fbbd9949bb5d4c00f753e3b74e5bd7ed10b1d36\n",
            "Successfully built pyfolio empyrical\n",
            "Installing collected packages: jedi, empyrical, pyfolio\n",
            "Successfully installed empyrical-0.5.5 jedi-0.18.2 pyfolio-0.9.2\n",
            "Requirement already satisfied: empyrical in /usr/local/lib/python3.10/dist-packages (0.5.5)\n",
            "Requirement already satisfied: numpy>=1.9.2 in /usr/local/lib/python3.10/dist-packages (from empyrical) (1.22.4)\n",
            "Requirement already satisfied: pandas>=0.16.1 in /usr/local/lib/python3.10/dist-packages (from empyrical) (1.5.3)\n",
            "Requirement already satisfied: scipy>=0.15.1 in /usr/local/lib/python3.10/dist-packages (from empyrical) (1.10.1)\n",
            "Requirement already satisfied: pandas-datareader>=0.2 in /usr/local/lib/python3.10/dist-packages (from empyrical) (0.10.0)\n",
            "Requirement already satisfied: python-dateutil>=2.8.1 in /usr/local/lib/python3.10/dist-packages (from pandas>=0.16.1->empyrical) (2.8.2)\n",
            "Requirement already satisfied: pytz>=2020.1 in /usr/local/lib/python3.10/dist-packages (from pandas>=0.16.1->empyrical) (2022.7.1)\n",
            "Requirement already satisfied: lxml in /usr/local/lib/python3.10/dist-packages (from pandas-datareader>=0.2->empyrical) (4.9.3)\n",
            "Requirement already satisfied: requests>=2.19.0 in /usr/local/lib/python3.10/dist-packages (from pandas-datareader>=0.2->empyrical) (2.27.1)\n",
            "Requirement already satisfied: six>=1.5 in /usr/local/lib/python3.10/dist-packages (from python-dateutil>=2.8.1->pandas>=0.16.1->empyrical) (1.16.0)\n",
            "Requirement already satisfied: urllib3<1.27,>=1.21.1 in /usr/local/lib/python3.10/dist-packages (from requests>=2.19.0->pandas-datareader>=0.2->empyrical) (1.26.16)\n",
            "Requirement already satisfied: certifi>=2017.4.17 in /usr/local/lib/python3.10/dist-packages (from requests>=2.19.0->pandas-datareader>=0.2->empyrical) (2023.5.7)\n",
            "Requirement already satisfied: charset-normalizer~=2.0.0 in /usr/local/lib/python3.10/dist-packages (from requests>=2.19.0->pandas-datareader>=0.2->empyrical) (2.0.12)\n",
            "Requirement already satisfied: idna<4,>=2.5 in /usr/local/lib/python3.10/dist-packages (from requests>=2.19.0->pandas-datareader>=0.2->empyrical) (3.4)\n"
          ]
        }
      ]
    },
    {
      "cell_type": "code",
      "source": [
        "import pandas as pd\n",
        "import numpy as np\n",
        "import pyfolio as pf\n",
        "\n",
        "def get_stock_data():\n",
        "    # Function to fetch historical stock data for the stocks in the portfolio\n",
        "    # Replace this with your data retrieval mechanism (e.g., API or local CSV file)\n",
        "    # Returns a pandas DataFrame with columns: 'Date', 'StockSymbol', 'AdjClose'\n",
        "    pass\n",
        "\n",
        "def get_portfolio_returns(portfolio, stock_data):\n",
        "    # Function to calculate daily portfolio returns based on the stock holdings and data\n",
        "    # Returns a pandas DataFrame with columns: 'Date', 'Return'\n",
        "    pass\n"
      ],
      "metadata": {
        "colab": {
          "base_uri": "https://localhost:8080/"
        },
        "id": "tuDAlcGoNjHc",
        "outputId": "156a96b8-e76e-45c8-8c06-5c6baa2b0e16"
      },
      "execution_count": null,
      "outputs": [
        {
          "output_type": "stream",
          "name": "stderr",
          "text": [
            "/usr/local/lib/python3.10/dist-packages/pyfolio/pos.py:26: UserWarning: Module \"zipline.assets\" not found; mutltipliers will not be applied to position notionals.\n",
            "  warnings.warn(\n"
          ]
        }
      ]
    },
    {
      "cell_type": "code",
      "source": [
        "def backtest_momentum_strategy():\n",
        "    # Get historical stock data\n",
        "    stock_data = get_stock_data()\n",
        "\n",
        "    # Get the portfolio holdings and their allocations based on the momentum strategy\n",
        "    top_performers = get_top_performers()\n",
        "    portfolio = {stock: 1.0 / len(top_performers) for stock in top_performers}\n",
        "\n",
        "    # Calculate daily portfolio returns\n",
        "    portfolio_returns = get_portfolio_returns(portfolio, stock_data)\n",
        "    return portfolio_returns\n"
      ],
      "metadata": {
        "id": "71gfHj59NvSi"
      },
      "execution_count": null,
      "outputs": []
    },
    {
      "cell_type": "code",
      "source": [
        "def analyze_backtest(portfolio_returns):\n",
        "    # Convert daily portfolio returns to a pandas Series\n",
        "    portfolio_returns_series = pd.Series(portfolio_returns['Return'].values,\n",
        "                                         index=pd.to_datetime(portfolio_returns['Date']))\n",
        "\n",
        "    # Calculate performance metrics using Pyfolio\n",
        "    pf.create_returns_tear_sheet(portfolio_returns_series)\n"
      ],
      "metadata": {
        "id": "9Eg8_pduNoWI"
      },
      "execution_count": null,
      "outputs": []
    },
    {
      "cell_type": "code",
      "source": [
        "import pandas as pd\n",
        "import numpy as np\n",
        "\n",
        "# Sample function to generate random historical stock data\n",
        "def get_stock_data():\n",
        "    np.random.seed(0)\n",
        "    date_range = pd.date_range(start='2023-01-01', end='2023-12-31', freq='B')\n",
        "    symbols = ['AAPL', 'MSFT', 'GOOGL', 'AMZN', 'FB']\n",
        "    data = {\n",
        "        'Date': date_range,\n",
        "        'StockSymbol': np.random.choice(symbols, len(date_range)),\n",
        "        'AdjClose': np.random.randint(100, 300, len(date_range))\n",
        "    }\n",
        "    return pd.DataFrame(data)\n",
        "\n",
        "def get_top_performers(stock_data, num_top_performers=5):\n",
        "    # Calculate the 52-week rolling returns for each stock\n",
        "    stock_data['RollingReturn'] = stock_data.groupby('StockSymbol')['AdjClose'].pct_change().rolling(window=252).sum()\n",
        "\n",
        "    # Get the top performers based on 52-week rolling returns\n",
        "    top_performers = stock_data.groupby('StockSymbol')['RollingReturn'].last().nlargest(num_top_performers)\n",
        "\n",
        "    return top_performers.index.tolist()\n",
        "\n",
        "# Rest of the code remains the same as before\n",
        "\n",
        "# ...\n",
        "\n",
        "# In the __main__ block:\n",
        "if __name__ == \"__main__\":\n",
        "    # Generate random historical stock data\n",
        "    stock_data = get_stock_data()\n",
        "\n",
        "    # Get the top 5 performers based on 52-week rolling returns\n",
        "    top_performers = get_top_performers(stock_data)\n",
        "    print(\"Top performers:\", top_performers)\n"
      ],
      "metadata": {
        "colab": {
          "base_uri": "https://localhost:8080/"
        },
        "id": "koF3UrKROFXb",
        "outputId": "5603a940-9dcd-40e2-88b0-e4842ac90d6f"
      },
      "execution_count": null,
      "outputs": [
        {
          "output_type": "stream",
          "name": "stdout",
          "text": [
            "Top performers: ['AMZN', 'AAPL', 'FB', 'GOOGL', 'MSFT']\n"
          ]
        }
      ]
    }
  ]
}